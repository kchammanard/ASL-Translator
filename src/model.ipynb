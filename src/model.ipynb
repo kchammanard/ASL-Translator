import pandas
from keras.models import Sequential
from keras.layers import Dense
from keras.wrappers.scikit_learn import KerasClassifier
from keras.utils import np_utils
from sklearn.model_selection import cross_val_score
from sklearn.model_selection import KFold
from sklearn.preprocessing import LabelEncoder
from sklearn.pipeline import Pipeline
import numpy as np

# define baseline model
def baseline_model():
    num_hands = 30    
    model = Sequential()
    model.add(Dense(8, input_dim=42, activation='relu'))
    model.add(Dense(num_hands, activation='softmax'))
    model.compile(loss='categorical_crossentropy', optimizer='adam', metrics=['accuracy'])
    return model

def encoder():
    return

def evaluate_model():
    return

if __name__ == '__main__':
    print("esus")
